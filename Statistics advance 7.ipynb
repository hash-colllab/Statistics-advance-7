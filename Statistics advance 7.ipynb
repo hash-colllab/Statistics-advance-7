{
 "cells": [
  {
   "cell_type": "markdown",
   "id": "31c8e126-c0d5-4392-9430-295a0c11f020",
   "metadata": {},
   "source": [
    "Answer 1:-"
   ]
  },
  {
   "cell_type": "code",
   "execution_count": 1,
   "id": "52beca84-b230-4df5-86c9-489624ee19b1",
   "metadata": {},
   "outputs": [
    {
     "name": "stdout",
     "output_type": "stream",
     "text": [
      "F-value: 2.2093023255813953\n",
      "p-value: 0.1680129241056975\n"
     ]
    }
   ],
   "source": [
    "import numpy as np\n",
    "import scipy.stats as stats\n",
    "\n",
    "def variance_ratio_test(data1, data2):\n",
    "   \n",
    "    # Convert the input data to numpy arrays\n",
    "    data1 = np.array(data1)\n",
    "    data2 = np.array(data2)\n",
    "\n",
    "    # Perform the variance ratio test (F-test)\n",
    "    f_value, p_value = stats.f_oneway(data1, data2)\n",
    "\n",
    "    return f_value, p_value\n",
    "\n",
    "# Example usage:\n",
    "data1 = [33, 29, 34, 39, 26, 30]\n",
    "data2 = [31, 32, 25, 28, 29, 27]\n",
    "f_value, p_value = variance_ratio_test(data1, data2)\n",
    "print(\"F-value:\", f_value)\n",
    "print(\"p-value:\", p_value)"
   ]
  },
  {
   "cell_type": "markdown",
   "id": "f8787a0a-031f-4da4-9351-a64521fb9f7e",
   "metadata": {},
   "source": [
    "Answer 2:-"
   ]
  },
  {
   "cell_type": "code",
   "execution_count": 2,
   "id": "b0d1be72-4082-448f-971b-0dcd1416ba5c",
   "metadata": {},
   "outputs": [
    {
     "name": "stdout",
     "output_type": "stream",
     "text": [
      "Critical F-value: 3.8586986662732143\n"
     ]
    }
   ],
   "source": [
    "import scipy.stats as stats\n",
    "\n",
    "def critical_f_value(alpha, df_num, df_den):\n",
    "    \"\"\"\n",
    "    Calculate the critical F-value for a two-tailed test.\n",
    "\n",
    "    Parameters:\n",
    "        alpha (float): The significance level.\n",
    "        df_num (int): Degrees of freedom for the numerator.\n",
    "        df_den (int): Degrees of freedom for the denominator.\n",
    "\n",
    "    Returns:\n",
    "        critical_f (float): The critical F-value for the two-tailed test.\n",
    "    \"\"\"\n",
    "    # Calculate the critical F-value using the percent point function (ppf)\n",
    "    critical_f = stats.f.ppf(1 - alpha / 2, df_num, df_den)\n",
    "\n",
    "    return critical_f\n",
    "\n",
    "# Example usage:\n",
    "alpha = 0.05\n",
    "df_num = 3 #assumption made because data is not given\n",
    "df_den = 20 #assumption made because data is not given\n",
    "critical_f = critical_f_value(alpha, df_num, df_den)\n",
    "print(\"Critical F-value:\", critical_f)"
   ]
  },
  {
   "cell_type": "markdown",
   "id": "95af308c-341f-4e3c-b48f-0bc09de32bdf",
   "metadata": {},
   "source": [
    "Answer 3:-"
   ]
  },
  {
   "cell_type": "code",
   "execution_count": 3,
   "id": "0ad86274-c8e2-4feb-b888-e6900fbd6b6e",
   "metadata": {},
   "outputs": [
    {
     "name": "stdout",
     "output_type": "stream",
     "text": [
      "F-value: 1.2931656024081988\n",
      "Degrees of freedom (numerator): 29\n",
      "Degrees of freedom (denominator): 29\n",
      "p-value: 0.26014167894215945\n"
     ]
    }
   ],
   "source": [
    "import numpy as np\n",
    "import scipy.stats as stats\n",
    "\n",
    "def f_test_equal_variances(sample1, sample2):\n",
    "    \"\"\"\n",
    "    Perform an F-test to compare the variances of two samples.\n",
    "\n",
    "    Parameters:\n",
    "        sample1 (array-like): The first sample data (from a normal distribution).\n",
    "        sample2 (array-like): The second sample data (from a normal distribution).\n",
    "\n",
    "    Returns:\n",
    "        f_value (float): The F-value from the F-test.\n",
    "        df_num (int): Degrees of freedom for the numerator.\n",
    "        df_den (int): Degrees of freedom for the denominator.\n",
    "        p_value (float): The p-value associated with the F-value.\n",
    "    \"\"\"\n",
    "    # Convert the input samples to numpy arrays\n",
    "    sample1 = np.array(sample1)\n",
    "    sample2 = np.array(sample2)\n",
    "\n",
    "    # Calculate the F-test statistics and p-value\n",
    "    f_value, p_value = stats.f_oneway(sample1, sample2)\n",
    "\n",
    "    # Degrees of freedom\n",
    "    df_num = len(sample1) - 1\n",
    "    df_den = len(sample2) - 1\n",
    "\n",
    "    return f_value, df_num, df_den, p_value\n",
    "\n",
    "# Example usage:\n",
    "np.random.seed(40)\n",
    "\n",
    "# Generate random samples from two normal distributions with known variances\n",
    "sample1 = np.random.normal(loc=50, scale=10, size=30)\n",
    "sample2 = np.random.normal(loc=50, scale=12, size=30)\n",
    "\n",
    "# Perform the F-test\n",
    "f_value, df_num, df_den, p_value = f_test_equal_variances(sample1, sample2)\n",
    "\n",
    "# Report the results\n",
    "print(\"F-value:\", f_value)\n",
    "print(\"Degrees of freedom (numerator):\", df_num)\n",
    "print(\"Degrees of freedom (denominator):\", df_den)\n",
    "print(\"p-value:\", p_value)"
   ]
  },
  {
   "cell_type": "markdown",
   "id": "928bdfa1-dbbd-455f-97d1-197ed482e6d2",
   "metadata": {},
   "source": [
    "Answer 4:-"
   ]
  },
  {
   "cell_type": "code",
   "execution_count": 4,
   "id": "3a43c098-dd3b-481c-8392-95ade692e0c6",
   "metadata": {},
   "outputs": [
    {
     "name": "stdout",
     "output_type": "stream",
     "text": [
      "f-value : 2.8179304699530863\n",
      "The variances of the two populations are not significantly different.\n"
     ]
    }
   ],
   "source": [
    "import scipy.stats as stats\n",
    "\n",
    "# Given data\n",
    "known_variance_1 = 10\n",
    "known_variance_2 = 15\n",
    "sample_size = 12\n",
    "alpha = 0.05\n",
    "\n",
    "# Calculate the F-statistic\n",
    "f_statistic = known_variance_1 / known_variance_2\n",
    "\n",
    "# Degrees of freedom\n",
    "df1 = sample_size - 1\n",
    "df2 = sample_size - 1\n",
    "\n",
    "# Calculate the critical F-value at the 5% significance level\n",
    "critical_f_value = stats.f.ppf(1 - alpha, df1, df2)\n",
    "\n",
    "print(\"f-value :\",critical_f_value)\n",
    "\n",
    "# Perform the F-test and check if variances are significantly different\n",
    "if f_statistic > critical_f_value or f_statistic < (1 / critical_f_value):\n",
    "    print(\"The variances of the two populations are significantly different.\")\n",
    "else:\n",
    "    print(\"The variances of the two populations are not significantly different.\")"
   ]
  },
  {
   "cell_type": "markdown",
   "id": "fe34cdde-25b9-4499-800e-49b02f7a7916",
   "metadata": {},
   "source": [
    "Answer 5:-"
   ]
  },
  {
   "cell_type": "code",
   "execution_count": 5,
   "id": "ba4c3976-b60a-4fed-838c-9166dc704b7b",
   "metadata": {},
   "outputs": [
    {
     "ename": "NameError",
     "evalue": "name 'f' is not defined",
     "output_type": "error",
     "traceback": [
      "\u001b[1;31m---------------------------------------------------------------------------\u001b[0m",
      "\u001b[1;31mNameError\u001b[0m                                 Traceback (most recent call last)",
      "Cell \u001b[1;32mIn[5], line 25\u001b[0m\n\u001b[0;32m     22\u001b[0m dfd \u001b[38;5;241m=\u001b[39m n \u001b[38;5;241m-\u001b[39m \u001b[38;5;241m1\u001b[39m\n\u001b[0;32m     24\u001b[0m \u001b[38;5;66;03m# calculate the p-value\u001b[39;00m\n\u001b[1;32m---> 25\u001b[0m p_value \u001b[38;5;241m=\u001b[39m \u001b[38;5;241m2\u001b[39m \u001b[38;5;241m*\u001b[39m \u001b[38;5;28mmin\u001b[39m(\u001b[43mf\u001b[49m\u001b[38;5;241m.\u001b[39mcdf(F, dfn, dfd), \u001b[38;5;241m1\u001b[39m \u001b[38;5;241m-\u001b[39m f\u001b[38;5;241m.\u001b[39mcdf(F, dfn, dfd))\n\u001b[0;32m     27\u001b[0m \u001b[38;5;66;03m# Calculates critical values for two tailed F-test\u001b[39;00m\n\u001b[0;32m     28\u001b[0m alpha \u001b[38;5;241m=\u001b[39m \u001b[38;5;241m0.01\u001b[39m\n",
      "\u001b[1;31mNameError\u001b[0m: name 'f' is not defined"
     ]
    }
   ],
   "source": [
    "import scipy.stats as stats\n",
    "\n",
    "# set the significance level\n",
    "alpha = 0.01\n",
    "\n",
    "# set the claimed population variance and sample variance\n",
    "sigma2 = 0.005\n",
    "s2 = 0.006\n",
    "\n",
    "# set the sample size\n",
    "n = 25\n",
    "\n",
    "# Null Hypothesis and alternate hypothesis\n",
    "null_hypothesis = \"The variance of the diameter of the product is 0.005\"\n",
    "alternate_hypothesis = \"The variance of the diameter of the product is NOT 0.005.\"\n",
    "\n",
    "# calculate the F-statistic\n",
    "F = s2 / sigma2\n",
    "\n",
    "# calculate the critical value of the F-distribution\n",
    "dfn = n - 1\n",
    "dfd = n - 1\n",
    "\n",
    "# calculate the p-value\n",
    "p_value = 2 * min(f.cdf(F, dfn, dfd), 1 - f.cdf(F, dfn, dfd))\n",
    "\n",
    "# Calculates critical values for two tailed F-test\n",
    "alpha = 0.01\n",
    "F_crit1 = f.ppf(alpha/2, dfn, dfd)\n",
    "F_crit2 = f.ppf(1-alpha/2,dfn, dfd)\n",
    "\n",
    "# print the results\n",
    "print(f\"F-statistic: {F:.4f}\")\n",
    "print(f\"F Critical values: {F_crit1:.4f} and {F_crit2:.4f}\")\n",
    "print(f\"P-value: {p_value:.4f}\")\n",
    "\n",
    "if p_value < alpha:\n",
    "    print(\"Reject null hypothesis.\")\n",
    "    print(f\"Conclusion : {alternate_hypothesis}\")\n",
    "else:\n",
    "    print(\"FAIL to reject null hypothesis.\")\n",
    "    print(f\"Conclusion : {null_hypothesis}\")"
   ]
  },
  {
   "cell_type": "markdown",
   "id": "b538d7e5-f434-4b8d-b71e-1f6a1c216474",
   "metadata": {},
   "source": [
    "Answer 6:-"
   ]
  },
  {
   "cell_type": "code",
   "execution_count": 6,
   "id": "ab10d409-020c-4716-8176-6fd6f028881e",
   "metadata": {},
   "outputs": [
    {
     "name": "stdout",
     "output_type": "stream",
     "text": [
      "Mean: 1.1538461538461537\n",
      "Variance: 0.8714362560516407\n"
     ]
    }
   ],
   "source": [
    "def f_distribution_mean_variance(df_num, df_den):\n",
    "    \"\"\"\n",
    "    Calculate the mean and variance of an F-distribution.\n",
    "\n",
    "    Parameters:\n",
    "        df_num (int): Degrees of freedom for the numerator.\n",
    "        df_den (int): Degrees of freedom for the denominator.\n",
    "\n",
    "    Returns:\n",
    "        mean (float): The mean of the F-distribution.\n",
    "        variance (float): The variance of the F-distribution.\n",
    "    \"\"\"\n",
    "    # Calculate the mean and variance of the F-distribution\n",
    "    mean = df_den / (df_den - 2)\n",
    "    variance = (2 * df_den**2 * (df_num + df_den - 2)) / (df_num * (df_den - 2)**2 * (df_den - 4))\n",
    "\n",
    "    return mean, variance\n",
    "\n",
    "# Example usage:\n",
    "df_num = 5\n",
    "df_den = 15\n",
    "mean, variance = f_distribution_mean_variance(df_num, df_den)\n",
    "print(\"Mean:\", mean)\n",
    "print(\"Variance:\", variance)"
   ]
  },
  {
   "cell_type": "markdown",
   "id": "d723f646-f292-498e-a447-6c64cbf4def7",
   "metadata": {},
   "source": [
    "Answer 7:-"
   ]
  },
  {
   "cell_type": "code",
   "execution_count": 7,
   "id": "92342526-f690-4e40-91ac-9680d4526491",
   "metadata": {},
   "outputs": [
    {
     "name": "stdout",
     "output_type": "stream",
     "text": [
      "f-stat :  1.25\n",
      "f_critical :  2.1638195794408634\n",
      "The variances of the two populations are not significantly different at the 10% significance level\n"
     ]
    }
   ],
   "source": [
    "n1 = 10\n",
    "n2 = 15\n",
    "df1 = n1-1\n",
    "df2= n2-2\n",
    "sample_variance_1 = 25\n",
    "sample_variance_2 = 20\n",
    "alpha =0.10\n",
    "\n",
    "#fstatistic\n",
    "f_stat = sample_variance_1/sample_variance_2\n",
    "\n",
    "#critical f value\n",
    "f_critical = stats.f.ppf(1-alpha , df1,df2)\n",
    "\n",
    "print(\"f-stat : \" , f_stat)\n",
    "print(\"f_critical : \" , f_critical)\n",
    "\n",
    "if f_stat > f_critical or f_stat < (1 / f_critical):\n",
    "    print(\"The variances of the two populations are significantly different at the 10% significance level\")\n",
    "    \n",
    "else:\n",
    "    print(\"The variances of the two populations are not significantly different at the 10% significance level\")"
   ]
  },
  {
   "cell_type": "markdown",
   "id": "4fcfe757-67f9-468a-b240-71f2eef01fc6",
   "metadata": {},
   "source": [
    "Answer 8:-"
   ]
  },
  {
   "cell_type": "code",
   "execution_count": 8,
   "id": "8edcc608-a500-43a5-8776-19c47641e66c",
   "metadata": {},
   "outputs": [
    {
     "name": "stdout",
     "output_type": "stream",
     "text": [
      "F-statistic: 1.4551907719609583\n",
      "F Critical value: 4.950288068694318\n",
      "P-value: 0.3487407873968742\n",
      "Significance Level: 0.05\n",
      "FAIL to reject null hypothesis. \n",
      "Conclusion : The Variances are not significantly different\n"
     ]
    }
   ],
   "source": [
    "from scipy.stats import f\n",
    "\n",
    "sample1=np.array([24,25,28,23,22,20,27])\n",
    "sample2=np.array([31,33,35,30,32,36])\n",
    "\n",
    "null_hypothesis= \"The Variances are not significantly different\"\n",
    "alternate_hypothesis = \"The Variances are significantly different\"\n",
    "\n",
    "alpha = 0.05\n",
    "\n",
    "# Calculate the sample variances\n",
    "var1 = np.var(sample1, ddof=1)\n",
    "var2 = np.var(sample2, ddof=1)\n",
    "\n",
    "# Calculate F-statistic\n",
    "if var1 >= var2:\n",
    "    f_statistic = var1/var2\n",
    "    dfn = len(sample1)-1\n",
    "    dfd = len(sample2)-1        \n",
    "else:\n",
    "    f_statistic = var2/var1\n",
    "    dfn = len(sample2)-1\n",
    "    dfd = len(sample1)-1\n",
    "\n",
    "# Calculating p-value\n",
    "p_value = 1 - f.cdf(f_statistic, dfn, dfd) \n",
    "\n",
    "# Calculate F-critical\n",
    "F_crit = f.ppf(1-alpha, dfn, dfd)\n",
    "\n",
    "# print the results\n",
    "print(f\"F-statistic: {f_statistic}\")\n",
    "print(f\"F Critical value: {F_crit}\")\n",
    "print(f\"P-value: {p_value}\")\n",
    "print(f\"Significance Level: {alpha}\")\n",
    "    \n",
    "#Determine if null hypothesis should be rejected\n",
    "if p_value < alpha:\n",
    "    print(\"Reject null hypothesis.\")\n",
    "    print(f\"Conclusion : {alternate_hypothesis}\")\n",
    "else:\n",
    "    print(\"FAIL to reject null hypothesis. \")\n",
    "    print(f\"Conclusion : {null_hypothesis}\")"
   ]
  },
  {
   "cell_type": "markdown",
   "id": "c8ac71bf-9bc0-4ebe-99ff-d0f40663bea0",
   "metadata": {},
   "source": [
    "Answer 10:-"
   ]
  },
  {
   "cell_type": "code",
   "execution_count": null,
   "id": "934d85b8-4cf4-408e-883e-87f3ebee3eb2",
   "metadata": {},
   "outputs": [],
   "source": []
  }
 ],
 "metadata": {
  "kernelspec": {
   "display_name": "Python 3 (ipykernel)",
   "language": "python",
   "name": "python3"
  },
  "language_info": {
   "codemirror_mode": {
    "name": "ipython",
    "version": 3
   },
   "file_extension": ".py",
   "mimetype": "text/x-python",
   "name": "python",
   "nbconvert_exporter": "python",
   "pygments_lexer": "ipython3",
   "version": "3.12.4"
  }
 },
 "nbformat": 4,
 "nbformat_minor": 5
}
